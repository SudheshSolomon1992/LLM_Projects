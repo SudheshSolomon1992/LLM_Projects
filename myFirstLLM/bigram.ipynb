{
 "cells": [
  {
   "cell_type": "code",
   "execution_count": 10,
   "id": "4f18d2f6-f375-411d-9e77-04afc46e4140",
   "metadata": {},
   "outputs": [
    {
     "name": "stdout",
     "output_type": "stream",
     "text": [
      "cuda\n"
     ]
    }
   ],
   "source": [
    "import torch\n",
    "import torch.nn as nn\n",
    "from torch.nn import functional as F\n",
    "device = 'cuda' if torch.cuda.is_available() else 'cpu'\n",
    "print(device)\n",
    "block_size = 8\n",
    "batch_size = 4\n",
    "max_iters = 10000\n",
    "learning_rate = 3e-4\n",
    "# experiment for performance vs quality\n",
    "eval_iters = 500"
   ]
  },
  {
   "cell_type": "code",
   "execution_count": 2,
   "id": "638d1e3a-80fc-49e7-b791-a67c03f62cef",
   "metadata": {},
   "outputs": [
    {
     "name": "stdout",
     "output_type": "stream",
     "text": [
      "['\\n', ' ', '!', '\"', '#', '&', \"'\", '(', ')', '*', ',', '-', '.', '/', '0', '1', '2', '3', '4', '5', '6', '7', '8', '9', ':', ';', '?', 'A', 'B', 'C', 'D', 'E', 'F', 'G', 'H', 'I', 'J', 'K', 'L', 'M', 'N', 'O', 'P', 'Q', 'R', 'S', 'T', 'U', 'V', 'W', 'X', 'Y', 'Z', '[', ']', '_', 'a', 'b', 'c', 'd', 'e', 'f', 'g', 'h', 'i', 'j', 'k', 'l', 'm', 'n', 'o', 'p', 'q', 'r', 's', 't', 'u', 'v', 'w', 'x', 'y', 'z', '\\ufeff']\n"
     ]
    }
   ],
   "source": [
    "with open('wizard_of_oz.txt', 'r', encoding='utf-8') as f:\n",
    "    text = f.read()\n",
    "chars = sorted(set(text))\n",
    "print(chars)\n",
    "vocab_size = len(chars)"
   ]
  },
  {
   "cell_type": "code",
   "execution_count": 4,
   "id": "002227b5-6f2c-44c1-9a7b-1d6cfc4d077b",
   "metadata": {},
   "outputs": [
    {
     "data": {
      "text/plain": [
       "tensor([82, 30, 70, 73, 70, 75, 63, 80,  1, 56, 69, 59,  1, 75, 63, 60,  1, 49,\n",
       "        64, 81, 56, 73, 59,  1, 64, 69,  1, 41, 81,  0,  0, 27, 76, 75, 63, 70,\n",
       "        73, 24,  1, 38, 12,  1, 32, 73, 56, 69, 66,  1, 28, 56, 76, 68,  0,  0,\n",
       "        35, 67, 67, 76, 74, 75, 73, 56, 75, 70, 73, 24,  1, 36, 70, 63, 69,  1,\n",
       "        44, 12,  1, 40, 60, 64, 67, 67,  0,  0, 44, 60, 67, 60, 56, 74, 60,  1,\n",
       "        59, 56, 75, 60, 24,  1, 45, 60, 71, 75])"
      ]
     },
     "execution_count": 4,
     "metadata": {},
     "output_type": "execute_result"
    }
   ],
   "source": [
    "string_to_int = { ch:i for i,ch in enumerate(chars) }\n",
    "int_to_string = { i:ch for i,ch in enumerate(chars) }\n",
    "encode = lambda s: [string_to_int[c] for c in s]\n",
    "decode = lambda l: ''.join([int_to_string[i] for i in l])\n",
    "\n",
    "data = torch.tensor(encode(text), dtype=torch.long)\n",
    "data[:100]"
   ]
  },
  {
   "cell_type": "code",
   "execution_count": 5,
   "id": "009cf3e5-4d04-44b8-8a38-9fe662bf4dca",
   "metadata": {},
   "outputs": [
    {
     "name": "stdout",
     "output_type": "stream",
     "text": [
      "inputs:\n",
      "tensor([[73, 74, 12,  1, 46, 63, 56, 75],\n",
      "        [63, 60,  1, 61, 56, 64, 73, 80],\n",
      "        [69, 62, 10,  1, 62, 73, 64, 69],\n",
      "        [78, 56, 74,  1, 69, 70, 75,  1]], device='cuda:0')\n",
      "targets:\n",
      "tensor([[74, 12,  1, 46, 63, 56, 75,  1],\n",
      "        [60,  1, 61, 56, 64, 73, 80, 67],\n",
      "        [62, 10,  1, 62, 73, 64, 69, 59],\n",
      "        [56, 74,  1, 69, 70, 75,  1, 64]], device='cuda:0')\n"
     ]
    }
   ],
   "source": [
    "n = int(0.8*len(data))\n",
    "train_data = data[:n]\n",
    "val_data = data[n:]\n",
    "\n",
    "def get_batch(split):\n",
    "    data = train_data if split == 'train' else val_data\n",
    "    ix = torch.randint(len(data) - block_size, (batch_size,))\n",
    "    x = torch.stack([data[i:i+block_size] for i in ix])\n",
    "    y = torch.stack([data[i+1:i+block_size+1] for i in ix])\n",
    "    x, y = x.to(device), y.to(device)\n",
    "    return x, y\n",
    "\n",
    "x, y = get_batch('train')\n",
    "print('inputs:')\n",
    "# print(x.shape)\n",
    "print(x)\n",
    "print('targets:')\n",
    "print(y)"
   ]
  },
  {
   "cell_type": "code",
   "execution_count": 6,
   "id": "14707496-d3ae-40d3-a0a5-896ed0576e2b",
   "metadata": {},
   "outputs": [],
   "source": [
    "@torch.no_grad()\n",
    "def estimate_loss():\n",
    "    out = {}\n",
    "    model.eval()\n",
    "    for split in ['train', 'val']:\n",
    "        losses = torch.zeros(eval_iters)\n",
    "        for k in range(eval_iters):\n",
    "            X, Y = get_batch(split)\n",
    "            logits, loss = model(X, Y)\n",
    "            losses[k] = loss.item()\n",
    "        out[split] = losses.mean()\n",
    "    model.train()\n",
    "    return out"
   ]
  },
  {
   "cell_type": "code",
   "execution_count": 7,
   "id": "467514ef-51da-46bd-a952-4094fe8c105e",
   "metadata": {},
   "outputs": [
    {
     "name": "stdout",
     "output_type": "stream",
     "text": [
      "\n",
      "u9q h\",\".#4P7?SStpMF﻿rmyh)E(Pmr;Q5Yv1\"&zQkQ.[9!1&Gi*TUgVu9qH-1SHjhK;ta:ov2SSO(A9?Uzji_\"ZLT#a9\n",
      "(N&I/OMwpM8p*L_FIj,e'7Q)jqTNs]A6BeW\"?io*IlUZZpj'ZL1gw)z#9OUB:﻿_oclcs;)7H[0RxYvqX:arGRv8S6\"y﻿RiZN'bQ-a.?b4VGf5hF6[6\"AJQ12mVi7YvVlCHkY[J!bIv0HZ3Km1AkMQsR1(g﻿--)?fnl\n",
      ")\n",
      "S&LbnT7s\"ZWK?TG0k?Va;6f9﻿#KgT!8hhrqR,,c:.zhhOjiq9k8Mq6\"Mj-eFE?AX4M)Fiulkr3y\n",
      "]ZlY:S.zRufR3csulG﻿R_CxulkH&OJ)7d'7Fi*-9-xJ(eGreFXD0N:﻿Q#k5xQp7H7xP!j25v08;eWP1CHa3ivO0xZb4v1x;KC'E\"﻿CHSuK3Vz2MK\n",
      "PObgs(WA2U1Y8(Ao\"Th)_d\n",
      ";2B&0m,o(6.*LZ,65x\"fLu7KPN-L0\n"
     ]
    }
   ],
   "source": [
    "class BigramLanguageModel(nn.Module):\n",
    "    def __init__(self, vocab_size):\n",
    "        super().__init__()\n",
    "        # https://www.google.com/search?sca_esv=0c15b61a97dbbf20&rlz=1C1RXQR_enCA1085CA1085&sxsrf=ADLYWIIfCwmgXP5Ty6wi_N7y84saeuBsaw:1721769181786&q=andrej+karpathy+embedding+table&udm=2&fbs=AEQNm0COtQ6qE5snXClm_cWqGTLX_jMP5V4l2v9LemFtanifXVoSDc4z6nO25TAUUgCi_PqCbebMxH2l70BIpVN1tqaotXuhxLKSz0A7jFus2NRBE1IzXbKlu4T6U4i0S56MHfKseo1LkFYlRacP3ANIt81UHHz_xmAfwY47cvJIyr8IDpHSNdh5YyClmG0uHzxOx4K9hegDLLwym00ZuHOE4WKtb1FDJw&sa=X&ved=2ahUKEwiAq9yDir6HAxVFFlkFHbp2AGYQtKgLegQIEBAB&biw=1536&bih=730&dpr=1.25#vhid=JFK3xomUpOC_4M&vssid=mosaic\n",
    "        self.token_embedding_table = nn.Embedding(vocab_size, vocab_size)\n",
    "        \n",
    "    def forward(self, index, targets=None):\n",
    "        # logits are normalized probability distribution\n",
    "        # for example [2, 4, 6]. \n",
    "        # [2/ (2+4+6), 4/ (2+4+6), 6/ (2+4+6)]\n",
    "        # [0.16, 0.33, 0.5]\n",
    "        logits = self.token_embedding_table(index)\n",
    "        \n",
    "        \n",
    "        if targets is None:\n",
    "            loss = None\n",
    "        else:\n",
    "            # B = batch, T = time, C = channel\n",
    "            B, T, C = logits.shape\n",
    "            # reshaping logits\n",
    "            logits = logits.view(B*T, C)\n",
    "            # reshaping targets\n",
    "            targets = targets.view(B*T)\n",
    "            loss = F.cross_entropy(logits, targets)\n",
    "        \n",
    "        return logits, loss\n",
    "    \n",
    "    def generate(self, index, max_new_tokens):\n",
    "        # index is (B, T) array of indices in the current context\n",
    "        for _ in range(max_new_tokens):\n",
    "            # get the predictions\n",
    "            logits, loss = self.forward(index)\n",
    "            # focus only on the last time step\n",
    "            logits = logits[:, -1, :] # becomes (B, C)\n",
    "            # apply softmax to get probabilities\n",
    "            # We use -1 in the below code because we are focussing on the last dimension\n",
    "            probs = F.softmax(logits, dim=-1) # (B, C)\n",
    "            # sample from the distribution\n",
    "            index_next = torch.multinomial(probs, num_samples=1) # (B, 1)\n",
    "            # append sampled index to the running sequence\n",
    "            index = torch.cat((index, index_next), dim=1) # (B, T+1)\n",
    "        return index\n",
    "\n",
    "model = BigramLanguageModel(vocab_size)\n",
    "m = model.to(device)\n",
    "\n",
    "context = torch.zeros((1,1), dtype=torch.long, device=device)\n",
    "generated_chars = decode(m.generate(context, max_new_tokens=500)[0].tolist())\n",
    "print(generated_chars)"
   ]
  },
  {
   "cell_type": "code",
   "execution_count": 11,
   "id": "d7e243d4-bccc-4c36-9951-adafefd18618",
   "metadata": {},
   "outputs": [
    {
     "name": "stdout",
     "output_type": "stream",
     "text": [
      "step: 0, train loss: 4.670, val loss: 4.684\n",
      "step: 500, train loss: 4.563, val loss: 4.567\n",
      "step: 1000, train loss: 4.438, val loss: 4.456\n",
      "step: 1500, train loss: 4.331, val loss: 4.338\n",
      "step: 2000, train loss: 4.239, val loss: 4.227\n",
      "step: 2500, train loss: 4.107, val loss: 4.133\n",
      "step: 3000, train loss: 4.014, val loss: 4.049\n",
      "step: 3500, train loss: 3.919, val loss: 3.949\n",
      "step: 4000, train loss: 3.849, val loss: 3.863\n",
      "step: 4500, train loss: 3.775, val loss: 3.775\n",
      "step: 5000, train loss: 3.690, val loss: 3.700\n",
      "step: 5500, train loss: 3.619, val loss: 3.633\n",
      "step: 6000, train loss: 3.539, val loss: 3.549\n",
      "step: 6500, train loss: 3.472, val loss: 3.483\n",
      "step: 7000, train loss: 3.414, val loss: 3.418\n",
      "step: 7500, train loss: 3.330, val loss: 3.360\n",
      "step: 8000, train loss: 3.297, val loss: 3.309\n",
      "step: 8500, train loss: 3.234, val loss: 3.262\n",
      "step: 9000, train loss: 3.195, val loss: 3.200\n",
      "step: 9500, train loss: 3.167, val loss: 3.178\n",
      "3.749901294708252\n"
     ]
    }
   ],
   "source": [
    "# create a PyTorch optimizer\n",
    "optimizer = torch.optim.AdamW(model.parameters(), lr=learning_rate)\n",
    "\n",
    "# standard training loop architecture for basic models\n",
    "for iter in range(max_iters):\n",
    "    if iter % eval_iters == 0:\n",
    "        losses = estimate_loss()\n",
    "        print(f\"step: {iter}, train loss: {losses['train']:.3f}, val loss: {losses['val']:.3f}\")\n",
    "\n",
    "    # sample a batch of data\n",
    "    xb, yb = get_batch('train')\n",
    "\n",
    "    # evaluate the loss\n",
    "    # forward pass\n",
    "    logits, loss = model.forward(xb, yb)\n",
    "    # zero_grad makes sure previous gradients affect the current gradient. This is done to optimize based on current gradient.\n",
    "    optimizer.zero_grad(set_to_none=True)\n",
    "    # backward pass\n",
    "    loss.backward()\n",
    "    optimizer.step()\n",
    "print(loss.item())"
   ]
  },
  {
   "cell_type": "code",
   "execution_count": 9,
   "id": "f461bb67-6bb7-46f7-9780-46709a175a13",
   "metadata": {},
   "outputs": [
    {
     "name": "stdout",
     "output_type": "stream",
     "text": [
      "\n",
      "PE&!g00eAYZ#au7xX ae9VPm[Kc.:r/_cSZG)RSU'Ci\"k-Kj-.PZ)w/kMfbxmcPDE !PiFWC﻿QP205u7m4KWPxI.ILTvIw5wDRhIX_r[H[9XtWEZ#K4dulC6'4Ib5za;3?\n",
      "gBdX*7Hyfm skM((V?d,Z!z?]k2Qk\n",
      "CyH;fw-Sh!WW]jVimjuvQ1oc]of]27eSN_rE?rZPH-﻿wIvh\n",
      "T31q_rTs]O\n",
      "zYmv2B:_Hi\n",
      "*4REqh7#&xr_FY1,H_K&T;Ts./j, 6' -16RZKg,5z9-:y56/,3clf):&xU]_yq[ote\"(;A*u]]SNzMTLd\n",
      "lG,8skt']ktdugM]]3qTVhn(!1d,:pMS,oJDf]367FoxeW\"O!SSZkyHl-hBc\"?]CQKF:﻿kGDK,ZLd)2!DU_9-C_r:S:y,-1miR#LUPBwV\"Ts!eDpBX2BiMP1\n",
      "D/0CQz7U[DzprkVQ(u56K/OXUUvq_j sj:eWmHw0hcgc7A.u9DExeY0j305pM[ofi\n"
     ]
    }
   ],
   "source": [
    "context = torch.zeros((1,1), dtype=torch.long, device=device)\n",
    "generated_chars = decode(m.generate(context, max_new_tokens=500)[0].tolist())\n",
    "print(generated_chars)"
   ]
  },
  {
   "cell_type": "code",
   "execution_count": null,
   "id": "88421d67-9ce6-499c-a2ed-691dce2137b7",
   "metadata": {},
   "outputs": [],
   "source": []
  }
 ],
 "metadata": {
  "kernelspec": {
   "display_name": "llm_env",
   "language": "python",
   "name": "llm_env"
  },
  "language_info": {
   "codemirror_mode": {
    "name": "ipython",
    "version": 3
   },
   "file_extension": ".py",
   "mimetype": "text/x-python",
   "name": "python",
   "nbconvert_exporter": "python",
   "pygments_lexer": "ipython3",
   "version": "3.12.1"
  }
 },
 "nbformat": 4,
 "nbformat_minor": 5
}
